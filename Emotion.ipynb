{
  "nbformat": 4,
  "nbformat_minor": 0,
  "metadata": {
    "colab": {
      "provenance": []
    },
    "kernelspec": {
      "name": "python3",
      "display_name": "Python 3"
    },
    "language_info": {
      "name": "python"
    }
  },
  "cells": [
    {
      "cell_type": "code",
      "source": [
        "import pandas as pd"
      ],
      "metadata": {
        "id": "zadIy9AXBRgm"
      },
      "execution_count": 1,
      "outputs": []
    },
    {
      "cell_type": "code",
      "execution_count": 2,
      "metadata": {
        "colab": {
          "base_uri": "https://localhost:8080/"
        },
        "collapsed": true,
        "id": "rz1NIx4k-iHt",
        "outputId": "d8be1acd-9b4d-4dd1-97ef-a9904ff801ed"
      },
      "outputs": [
        {
          "output_type": "stream",
          "name": "stderr",
          "text": [
            "/usr/local/lib/python3.11/dist-packages/huggingface_hub/utils/_auth.py:94: UserWarning: \n",
            "The secret `HF_TOKEN` does not exist in your Colab secrets.\n",
            "To authenticate with the Hugging Face Hub, create a token in your settings tab (https://huggingface.co/settings/tokens), set it as secret in your Google Colab and restart your session.\n",
            "You will be able to reuse this secret in all of your notebooks.\n",
            "Please note that authentication is recommended but still optional to access public models or datasets.\n",
            "  warnings.warn(\n",
            "Device set to use cpu\n"
          ]
        }
      ],
      "source": [
        "from transformers import pipeline\n",
        "\n",
        "# Load the fine-tuned BERT-Emotion model\n",
        "sentiment_analysis = pipeline(\"text-classification\", model=\"boltuix/bert-emotion\")\n",
        "\n",
        "# Define label-to-emoji mapping\n",
        "label_to_emoji = {\n",
        "    \"Sadness\": \"😢\",\n",
        "    \"Anger\": \"😠\",\n",
        "    \"Love\": \"❤️\",\n",
        "    \"Surprise\": \"😲\",\n",
        "    \"Fear\": \"😱\",\n",
        "    \"Happiness\": \"😄\",\n",
        "    \"Neutral\": \"😐\",\n",
        "    \"Disgust\": \"🤢\",\n",
        "    \"Shame\": \"🙈\",\n",
        "    \"Guilt\": \"😔\",\n",
        "    \"Confusion\": \"😕\",\n",
        "    \"Desire\": \"🔥\",\n",
        "    \"Sarcasm\": \"😏\"\n",
        "}\n"
      ]
    },
    {
      "cell_type": "code",
      "source": [
        "# Input text\n",
        "text = \"i am proud of you!\"\n",
        "\n",
        "# Analyze emotion\n",
        "result = sentiment_analysis(text)[0]\n",
        "label = result[\"label\"].capitalize()\n",
        "emoji = label_to_emoji.get(label, \"❓\")\n",
        "\n",
        "# Output\n",
        "print(f\"Text: {text}\")\n",
        "print(f\"Predicted Emotion: {label} {emoji}\")\n",
        "print(f\"Confidence: {result['score']:.2%}\")"
      ],
      "metadata": {
        "colab": {
          "base_uri": "https://localhost:8080/"
        },
        "id": "LmsjXCQA_6Vs",
        "outputId": "6993b91c-6dd0-400d-e385-ee7890ad3614"
      },
      "execution_count": 3,
      "outputs": [
        {
          "output_type": "stream",
          "name": "stdout",
          "text": [
            "Text: i am proud of you!\n",
            "Predicted Emotion: Happiness 😄\n",
            "Confidence: 69.75%\n"
          ]
        }
      ]
    },
    {
      "cell_type": "code",
      "source": [
        "dataset = pd.read_csv('emo_data.csv', encoding=\"utf-8-sig\")"
      ],
      "metadata": {
        "id": "yoErpmiW_-Ce"
      },
      "execution_count": 7,
      "outputs": []
    },
    {
      "cell_type": "code",
      "source": [
        "len(dataset)"
      ],
      "metadata": {
        "colab": {
          "base_uri": "https://localhost:8080/"
        },
        "id": "yhPtNvaFCZ8n",
        "outputId": "64bb5334-465d-4836-d0e8-edec9e30c6e8"
      },
      "execution_count": 8,
      "outputs": [
        {
          "output_type": "execute_result",
          "data": {
            "text/plain": [
              "584"
            ]
          },
          "metadata": {},
          "execution_count": 8
        }
      ]
    },
    {
      "cell_type": "code",
      "source": [
        "dataset.columns"
      ],
      "metadata": {
        "colab": {
          "base_uri": "https://localhost:8080/"
        },
        "id": "7_wF6tGBKeTC",
        "outputId": "83bbcb07-bdae-4a95-9591-ca5454d8bbce"
      },
      "execution_count": 9,
      "outputs": [
        {
          "output_type": "execute_result",
          "data": {
            "text/plain": [
              "Index(['message'], dtype='object')"
            ]
          },
          "metadata": {},
          "execution_count": 9
        }
      ]
    },
    {
      "cell_type": "code",
      "source": [
        "dataset.head()"
      ],
      "metadata": {
        "colab": {
          "base_uri": "https://localhost:8080/",
          "height": 206
        },
        "id": "S_SbZ5sZKi5i",
        "outputId": "8d402af6-33aa-4ec7-cfd7-3cb2eb3f8ec9"
      },
      "execution_count": 10,
      "outputs": [
        {
          "output_type": "execute_result",
          "data": {
            "text/plain": [
              "                              message\n",
              "0          I really enjoyed the movie\n",
              "1               The food was terrible\n",
              "2  I'm not sure how I feel about this\n",
              "3           The service was excellent\n",
              "4              I had a bad experience"
            ],
            "text/html": [
              "\n",
              "  <div id=\"df-e7a28e4c-f07f-41f0-8cf6-e43a1754fb68\" class=\"colab-df-container\">\n",
              "    <div>\n",
              "<style scoped>\n",
              "    .dataframe tbody tr th:only-of-type {\n",
              "        vertical-align: middle;\n",
              "    }\n",
              "\n",
              "    .dataframe tbody tr th {\n",
              "        vertical-align: top;\n",
              "    }\n",
              "\n",
              "    .dataframe thead th {\n",
              "        text-align: right;\n",
              "    }\n",
              "</style>\n",
              "<table border=\"1\" class=\"dataframe\">\n",
              "  <thead>\n",
              "    <tr style=\"text-align: right;\">\n",
              "      <th></th>\n",
              "      <th>message</th>\n",
              "    </tr>\n",
              "  </thead>\n",
              "  <tbody>\n",
              "    <tr>\n",
              "      <th>0</th>\n",
              "      <td>I really enjoyed the movie</td>\n",
              "    </tr>\n",
              "    <tr>\n",
              "      <th>1</th>\n",
              "      <td>The food was terrible</td>\n",
              "    </tr>\n",
              "    <tr>\n",
              "      <th>2</th>\n",
              "      <td>I'm not sure how I feel about this</td>\n",
              "    </tr>\n",
              "    <tr>\n",
              "      <th>3</th>\n",
              "      <td>The service was excellent</td>\n",
              "    </tr>\n",
              "    <tr>\n",
              "      <th>4</th>\n",
              "      <td>I had a bad experience</td>\n",
              "    </tr>\n",
              "  </tbody>\n",
              "</table>\n",
              "</div>\n",
              "    <div class=\"colab-df-buttons\">\n",
              "\n",
              "  <div class=\"colab-df-container\">\n",
              "    <button class=\"colab-df-convert\" onclick=\"convertToInteractive('df-e7a28e4c-f07f-41f0-8cf6-e43a1754fb68')\"\n",
              "            title=\"Convert this dataframe to an interactive table.\"\n",
              "            style=\"display:none;\">\n",
              "\n",
              "  <svg xmlns=\"http://www.w3.org/2000/svg\" height=\"24px\" viewBox=\"0 -960 960 960\">\n",
              "    <path d=\"M120-120v-720h720v720H120Zm60-500h600v-160H180v160Zm220 220h160v-160H400v160Zm0 220h160v-160H400v160ZM180-400h160v-160H180v160Zm440 0h160v-160H620v160ZM180-180h160v-160H180v160Zm440 0h160v-160H620v160Z\"/>\n",
              "  </svg>\n",
              "    </button>\n",
              "\n",
              "  <style>\n",
              "    .colab-df-container {\n",
              "      display:flex;\n",
              "      gap: 12px;\n",
              "    }\n",
              "\n",
              "    .colab-df-convert {\n",
              "      background-color: #E8F0FE;\n",
              "      border: none;\n",
              "      border-radius: 50%;\n",
              "      cursor: pointer;\n",
              "      display: none;\n",
              "      fill: #1967D2;\n",
              "      height: 32px;\n",
              "      padding: 0 0 0 0;\n",
              "      width: 32px;\n",
              "    }\n",
              "\n",
              "    .colab-df-convert:hover {\n",
              "      background-color: #E2EBFA;\n",
              "      box-shadow: 0px 1px 2px rgba(60, 64, 67, 0.3), 0px 1px 3px 1px rgba(60, 64, 67, 0.15);\n",
              "      fill: #174EA6;\n",
              "    }\n",
              "\n",
              "    .colab-df-buttons div {\n",
              "      margin-bottom: 4px;\n",
              "    }\n",
              "\n",
              "    [theme=dark] .colab-df-convert {\n",
              "      background-color: #3B4455;\n",
              "      fill: #D2E3FC;\n",
              "    }\n",
              "\n",
              "    [theme=dark] .colab-df-convert:hover {\n",
              "      background-color: #434B5C;\n",
              "      box-shadow: 0px 1px 3px 1px rgba(0, 0, 0, 0.15);\n",
              "      filter: drop-shadow(0px 1px 2px rgba(0, 0, 0, 0.3));\n",
              "      fill: #FFFFFF;\n",
              "    }\n",
              "  </style>\n",
              "\n",
              "    <script>\n",
              "      const buttonEl =\n",
              "        document.querySelector('#df-e7a28e4c-f07f-41f0-8cf6-e43a1754fb68 button.colab-df-convert');\n",
              "      buttonEl.style.display =\n",
              "        google.colab.kernel.accessAllowed ? 'block' : 'none';\n",
              "\n",
              "      async function convertToInteractive(key) {\n",
              "        const element = document.querySelector('#df-e7a28e4c-f07f-41f0-8cf6-e43a1754fb68');\n",
              "        const dataTable =\n",
              "          await google.colab.kernel.invokeFunction('convertToInteractive',\n",
              "                                                    [key], {});\n",
              "        if (!dataTable) return;\n",
              "\n",
              "        const docLinkHtml = 'Like what you see? Visit the ' +\n",
              "          '<a target=\"_blank\" href=https://colab.research.google.com/notebooks/data_table.ipynb>data table notebook</a>'\n",
              "          + ' to learn more about interactive tables.';\n",
              "        element.innerHTML = '';\n",
              "        dataTable['output_type'] = 'display_data';\n",
              "        await google.colab.output.renderOutput(dataTable, element);\n",
              "        const docLink = document.createElement('div');\n",
              "        docLink.innerHTML = docLinkHtml;\n",
              "        element.appendChild(docLink);\n",
              "      }\n",
              "    </script>\n",
              "  </div>\n",
              "\n",
              "\n",
              "    <div id=\"df-b3be3a66-8720-48cd-b206-6a5511e4cc0c\">\n",
              "      <button class=\"colab-df-quickchart\" onclick=\"quickchart('df-b3be3a66-8720-48cd-b206-6a5511e4cc0c')\"\n",
              "                title=\"Suggest charts\"\n",
              "                style=\"display:none;\">\n",
              "\n",
              "<svg xmlns=\"http://www.w3.org/2000/svg\" height=\"24px\"viewBox=\"0 0 24 24\"\n",
              "     width=\"24px\">\n",
              "    <g>\n",
              "        <path d=\"M19 3H5c-1.1 0-2 .9-2 2v14c0 1.1.9 2 2 2h14c1.1 0 2-.9 2-2V5c0-1.1-.9-2-2-2zM9 17H7v-7h2v7zm4 0h-2V7h2v10zm4 0h-2v-4h2v4z\"/>\n",
              "    </g>\n",
              "</svg>\n",
              "      </button>\n",
              "\n",
              "<style>\n",
              "  .colab-df-quickchart {\n",
              "      --bg-color: #E8F0FE;\n",
              "      --fill-color: #1967D2;\n",
              "      --hover-bg-color: #E2EBFA;\n",
              "      --hover-fill-color: #174EA6;\n",
              "      --disabled-fill-color: #AAA;\n",
              "      --disabled-bg-color: #DDD;\n",
              "  }\n",
              "\n",
              "  [theme=dark] .colab-df-quickchart {\n",
              "      --bg-color: #3B4455;\n",
              "      --fill-color: #D2E3FC;\n",
              "      --hover-bg-color: #434B5C;\n",
              "      --hover-fill-color: #FFFFFF;\n",
              "      --disabled-bg-color: #3B4455;\n",
              "      --disabled-fill-color: #666;\n",
              "  }\n",
              "\n",
              "  .colab-df-quickchart {\n",
              "    background-color: var(--bg-color);\n",
              "    border: none;\n",
              "    border-radius: 50%;\n",
              "    cursor: pointer;\n",
              "    display: none;\n",
              "    fill: var(--fill-color);\n",
              "    height: 32px;\n",
              "    padding: 0;\n",
              "    width: 32px;\n",
              "  }\n",
              "\n",
              "  .colab-df-quickchart:hover {\n",
              "    background-color: var(--hover-bg-color);\n",
              "    box-shadow: 0 1px 2px rgba(60, 64, 67, 0.3), 0 1px 3px 1px rgba(60, 64, 67, 0.15);\n",
              "    fill: var(--button-hover-fill-color);\n",
              "  }\n",
              "\n",
              "  .colab-df-quickchart-complete:disabled,\n",
              "  .colab-df-quickchart-complete:disabled:hover {\n",
              "    background-color: var(--disabled-bg-color);\n",
              "    fill: var(--disabled-fill-color);\n",
              "    box-shadow: none;\n",
              "  }\n",
              "\n",
              "  .colab-df-spinner {\n",
              "    border: 2px solid var(--fill-color);\n",
              "    border-color: transparent;\n",
              "    border-bottom-color: var(--fill-color);\n",
              "    animation:\n",
              "      spin 1s steps(1) infinite;\n",
              "  }\n",
              "\n",
              "  @keyframes spin {\n",
              "    0% {\n",
              "      border-color: transparent;\n",
              "      border-bottom-color: var(--fill-color);\n",
              "      border-left-color: var(--fill-color);\n",
              "    }\n",
              "    20% {\n",
              "      border-color: transparent;\n",
              "      border-left-color: var(--fill-color);\n",
              "      border-top-color: var(--fill-color);\n",
              "    }\n",
              "    30% {\n",
              "      border-color: transparent;\n",
              "      border-left-color: var(--fill-color);\n",
              "      border-top-color: var(--fill-color);\n",
              "      border-right-color: var(--fill-color);\n",
              "    }\n",
              "    40% {\n",
              "      border-color: transparent;\n",
              "      border-right-color: var(--fill-color);\n",
              "      border-top-color: var(--fill-color);\n",
              "    }\n",
              "    60% {\n",
              "      border-color: transparent;\n",
              "      border-right-color: var(--fill-color);\n",
              "    }\n",
              "    80% {\n",
              "      border-color: transparent;\n",
              "      border-right-color: var(--fill-color);\n",
              "      border-bottom-color: var(--fill-color);\n",
              "    }\n",
              "    90% {\n",
              "      border-color: transparent;\n",
              "      border-bottom-color: var(--fill-color);\n",
              "    }\n",
              "  }\n",
              "</style>\n",
              "\n",
              "      <script>\n",
              "        async function quickchart(key) {\n",
              "          const quickchartButtonEl =\n",
              "            document.querySelector('#' + key + ' button');\n",
              "          quickchartButtonEl.disabled = true;  // To prevent multiple clicks.\n",
              "          quickchartButtonEl.classList.add('colab-df-spinner');\n",
              "          try {\n",
              "            const charts = await google.colab.kernel.invokeFunction(\n",
              "                'suggestCharts', [key], {});\n",
              "          } catch (error) {\n",
              "            console.error('Error during call to suggestCharts:', error);\n",
              "          }\n",
              "          quickchartButtonEl.classList.remove('colab-df-spinner');\n",
              "          quickchartButtonEl.classList.add('colab-df-quickchart-complete');\n",
              "        }\n",
              "        (() => {\n",
              "          let quickchartButtonEl =\n",
              "            document.querySelector('#df-b3be3a66-8720-48cd-b206-6a5511e4cc0c button');\n",
              "          quickchartButtonEl.style.display =\n",
              "            google.colab.kernel.accessAllowed ? 'block' : 'none';\n",
              "        })();\n",
              "      </script>\n",
              "    </div>\n",
              "\n",
              "    </div>\n",
              "  </div>\n"
            ],
            "application/vnd.google.colaboratory.intrinsic+json": {
              "type": "dataframe",
              "variable_name": "dataset",
              "summary": "{\n  \"name\": \"dataset\",\n  \"rows\": 584,\n  \"fields\": [\n    {\n      \"column\": \"message\",\n      \"properties\": {\n        \"dtype\": \"string\",\n        \"num_unique_values\": 546,\n        \"samples\": [\n          \"I'm really hungry \\ud83c\\udf54\",\n          \"The book was amazing\",\n          \"I'm just trying to keep things in perspective \\ud83c\\udf05\"\n        ],\n        \"semantic_type\": \"\",\n        \"description\": \"\"\n      }\n    }\n  ]\n}"
            }
          },
          "metadata": {},
          "execution_count": 10
        }
      ]
    },
    {
      "cell_type": "code",
      "source": [
        "dataset.tail()"
      ],
      "metadata": {
        "colab": {
          "base_uri": "https://localhost:8080/",
          "height": 206
        },
        "id": "qo_BtrPfKoBa",
        "outputId": "119ae292-a497-48d1-a1c9-c4241c99f3d2"
      },
      "execution_count": 11,
      "outputs": [
        {
          "output_type": "execute_result",
          "data": {
            "text/plain": [
              "                                               message\n",
              "579  I have to cancel my vacation plans because I c...\n",
              "580  My computer crashed and I lost all my importan...\n",
              "581  I got into a car accident and my car is totale...\n",
              "582  I have a cold and can't stop coughing. it's re...\n",
              "583  I just found out my ex is dating someone new. ..."
            ],
            "text/html": [
              "\n",
              "  <div id=\"df-0b29fd3e-60f8-4693-a96b-227408efeed7\" class=\"colab-df-container\">\n",
              "    <div>\n",
              "<style scoped>\n",
              "    .dataframe tbody tr th:only-of-type {\n",
              "        vertical-align: middle;\n",
              "    }\n",
              "\n",
              "    .dataframe tbody tr th {\n",
              "        vertical-align: top;\n",
              "    }\n",
              "\n",
              "    .dataframe thead th {\n",
              "        text-align: right;\n",
              "    }\n",
              "</style>\n",
              "<table border=\"1\" class=\"dataframe\">\n",
              "  <thead>\n",
              "    <tr style=\"text-align: right;\">\n",
              "      <th></th>\n",
              "      <th>message</th>\n",
              "    </tr>\n",
              "  </thead>\n",
              "  <tbody>\n",
              "    <tr>\n",
              "      <th>579</th>\n",
              "      <td>I have to cancel my vacation plans because I c...</td>\n",
              "    </tr>\n",
              "    <tr>\n",
              "      <th>580</th>\n",
              "      <td>My computer crashed and I lost all my importan...</td>\n",
              "    </tr>\n",
              "    <tr>\n",
              "      <th>581</th>\n",
              "      <td>I got into a car accident and my car is totale...</td>\n",
              "    </tr>\n",
              "    <tr>\n",
              "      <th>582</th>\n",
              "      <td>I have a cold and can't stop coughing. it's re...</td>\n",
              "    </tr>\n",
              "    <tr>\n",
              "      <th>583</th>\n",
              "      <td>I just found out my ex is dating someone new. ...</td>\n",
              "    </tr>\n",
              "  </tbody>\n",
              "</table>\n",
              "</div>\n",
              "    <div class=\"colab-df-buttons\">\n",
              "\n",
              "  <div class=\"colab-df-container\">\n",
              "    <button class=\"colab-df-convert\" onclick=\"convertToInteractive('df-0b29fd3e-60f8-4693-a96b-227408efeed7')\"\n",
              "            title=\"Convert this dataframe to an interactive table.\"\n",
              "            style=\"display:none;\">\n",
              "\n",
              "  <svg xmlns=\"http://www.w3.org/2000/svg\" height=\"24px\" viewBox=\"0 -960 960 960\">\n",
              "    <path d=\"M120-120v-720h720v720H120Zm60-500h600v-160H180v160Zm220 220h160v-160H400v160Zm0 220h160v-160H400v160ZM180-400h160v-160H180v160Zm440 0h160v-160H620v160ZM180-180h160v-160H180v160Zm440 0h160v-160H620v160Z\"/>\n",
              "  </svg>\n",
              "    </button>\n",
              "\n",
              "  <style>\n",
              "    .colab-df-container {\n",
              "      display:flex;\n",
              "      gap: 12px;\n",
              "    }\n",
              "\n",
              "    .colab-df-convert {\n",
              "      background-color: #E8F0FE;\n",
              "      border: none;\n",
              "      border-radius: 50%;\n",
              "      cursor: pointer;\n",
              "      display: none;\n",
              "      fill: #1967D2;\n",
              "      height: 32px;\n",
              "      padding: 0 0 0 0;\n",
              "      width: 32px;\n",
              "    }\n",
              "\n",
              "    .colab-df-convert:hover {\n",
              "      background-color: #E2EBFA;\n",
              "      box-shadow: 0px 1px 2px rgba(60, 64, 67, 0.3), 0px 1px 3px 1px rgba(60, 64, 67, 0.15);\n",
              "      fill: #174EA6;\n",
              "    }\n",
              "\n",
              "    .colab-df-buttons div {\n",
              "      margin-bottom: 4px;\n",
              "    }\n",
              "\n",
              "    [theme=dark] .colab-df-convert {\n",
              "      background-color: #3B4455;\n",
              "      fill: #D2E3FC;\n",
              "    }\n",
              "\n",
              "    [theme=dark] .colab-df-convert:hover {\n",
              "      background-color: #434B5C;\n",
              "      box-shadow: 0px 1px 3px 1px rgba(0, 0, 0, 0.15);\n",
              "      filter: drop-shadow(0px 1px 2px rgba(0, 0, 0, 0.3));\n",
              "      fill: #FFFFFF;\n",
              "    }\n",
              "  </style>\n",
              "\n",
              "    <script>\n",
              "      const buttonEl =\n",
              "        document.querySelector('#df-0b29fd3e-60f8-4693-a96b-227408efeed7 button.colab-df-convert');\n",
              "      buttonEl.style.display =\n",
              "        google.colab.kernel.accessAllowed ? 'block' : 'none';\n",
              "\n",
              "      async function convertToInteractive(key) {\n",
              "        const element = document.querySelector('#df-0b29fd3e-60f8-4693-a96b-227408efeed7');\n",
              "        const dataTable =\n",
              "          await google.colab.kernel.invokeFunction('convertToInteractive',\n",
              "                                                    [key], {});\n",
              "        if (!dataTable) return;\n",
              "\n",
              "        const docLinkHtml = 'Like what you see? Visit the ' +\n",
              "          '<a target=\"_blank\" href=https://colab.research.google.com/notebooks/data_table.ipynb>data table notebook</a>'\n",
              "          + ' to learn more about interactive tables.';\n",
              "        element.innerHTML = '';\n",
              "        dataTable['output_type'] = 'display_data';\n",
              "        await google.colab.output.renderOutput(dataTable, element);\n",
              "        const docLink = document.createElement('div');\n",
              "        docLink.innerHTML = docLinkHtml;\n",
              "        element.appendChild(docLink);\n",
              "      }\n",
              "    </script>\n",
              "  </div>\n",
              "\n",
              "\n",
              "    <div id=\"df-d5bd06c0-ebf9-4e95-8a29-9b8d3b6dc98d\">\n",
              "      <button class=\"colab-df-quickchart\" onclick=\"quickchart('df-d5bd06c0-ebf9-4e95-8a29-9b8d3b6dc98d')\"\n",
              "                title=\"Suggest charts\"\n",
              "                style=\"display:none;\">\n",
              "\n",
              "<svg xmlns=\"http://www.w3.org/2000/svg\" height=\"24px\"viewBox=\"0 0 24 24\"\n",
              "     width=\"24px\">\n",
              "    <g>\n",
              "        <path d=\"M19 3H5c-1.1 0-2 .9-2 2v14c0 1.1.9 2 2 2h14c1.1 0 2-.9 2-2V5c0-1.1-.9-2-2-2zM9 17H7v-7h2v7zm4 0h-2V7h2v10zm4 0h-2v-4h2v4z\"/>\n",
              "    </g>\n",
              "</svg>\n",
              "      </button>\n",
              "\n",
              "<style>\n",
              "  .colab-df-quickchart {\n",
              "      --bg-color: #E8F0FE;\n",
              "      --fill-color: #1967D2;\n",
              "      --hover-bg-color: #E2EBFA;\n",
              "      --hover-fill-color: #174EA6;\n",
              "      --disabled-fill-color: #AAA;\n",
              "      --disabled-bg-color: #DDD;\n",
              "  }\n",
              "\n",
              "  [theme=dark] .colab-df-quickchart {\n",
              "      --bg-color: #3B4455;\n",
              "      --fill-color: #D2E3FC;\n",
              "      --hover-bg-color: #434B5C;\n",
              "      --hover-fill-color: #FFFFFF;\n",
              "      --disabled-bg-color: #3B4455;\n",
              "      --disabled-fill-color: #666;\n",
              "  }\n",
              "\n",
              "  .colab-df-quickchart {\n",
              "    background-color: var(--bg-color);\n",
              "    border: none;\n",
              "    border-radius: 50%;\n",
              "    cursor: pointer;\n",
              "    display: none;\n",
              "    fill: var(--fill-color);\n",
              "    height: 32px;\n",
              "    padding: 0;\n",
              "    width: 32px;\n",
              "  }\n",
              "\n",
              "  .colab-df-quickchart:hover {\n",
              "    background-color: var(--hover-bg-color);\n",
              "    box-shadow: 0 1px 2px rgba(60, 64, 67, 0.3), 0 1px 3px 1px rgba(60, 64, 67, 0.15);\n",
              "    fill: var(--button-hover-fill-color);\n",
              "  }\n",
              "\n",
              "  .colab-df-quickchart-complete:disabled,\n",
              "  .colab-df-quickchart-complete:disabled:hover {\n",
              "    background-color: var(--disabled-bg-color);\n",
              "    fill: var(--disabled-fill-color);\n",
              "    box-shadow: none;\n",
              "  }\n",
              "\n",
              "  .colab-df-spinner {\n",
              "    border: 2px solid var(--fill-color);\n",
              "    border-color: transparent;\n",
              "    border-bottom-color: var(--fill-color);\n",
              "    animation:\n",
              "      spin 1s steps(1) infinite;\n",
              "  }\n",
              "\n",
              "  @keyframes spin {\n",
              "    0% {\n",
              "      border-color: transparent;\n",
              "      border-bottom-color: var(--fill-color);\n",
              "      border-left-color: var(--fill-color);\n",
              "    }\n",
              "    20% {\n",
              "      border-color: transparent;\n",
              "      border-left-color: var(--fill-color);\n",
              "      border-top-color: var(--fill-color);\n",
              "    }\n",
              "    30% {\n",
              "      border-color: transparent;\n",
              "      border-left-color: var(--fill-color);\n",
              "      border-top-color: var(--fill-color);\n",
              "      border-right-color: var(--fill-color);\n",
              "    }\n",
              "    40% {\n",
              "      border-color: transparent;\n",
              "      border-right-color: var(--fill-color);\n",
              "      border-top-color: var(--fill-color);\n",
              "    }\n",
              "    60% {\n",
              "      border-color: transparent;\n",
              "      border-right-color: var(--fill-color);\n",
              "    }\n",
              "    80% {\n",
              "      border-color: transparent;\n",
              "      border-right-color: var(--fill-color);\n",
              "      border-bottom-color: var(--fill-color);\n",
              "    }\n",
              "    90% {\n",
              "      border-color: transparent;\n",
              "      border-bottom-color: var(--fill-color);\n",
              "    }\n",
              "  }\n",
              "</style>\n",
              "\n",
              "      <script>\n",
              "        async function quickchart(key) {\n",
              "          const quickchartButtonEl =\n",
              "            document.querySelector('#' + key + ' button');\n",
              "          quickchartButtonEl.disabled = true;  // To prevent multiple clicks.\n",
              "          quickchartButtonEl.classList.add('colab-df-spinner');\n",
              "          try {\n",
              "            const charts = await google.colab.kernel.invokeFunction(\n",
              "                'suggestCharts', [key], {});\n",
              "          } catch (error) {\n",
              "            console.error('Error during call to suggestCharts:', error);\n",
              "          }\n",
              "          quickchartButtonEl.classList.remove('colab-df-spinner');\n",
              "          quickchartButtonEl.classList.add('colab-df-quickchart-complete');\n",
              "        }\n",
              "        (() => {\n",
              "          let quickchartButtonEl =\n",
              "            document.querySelector('#df-d5bd06c0-ebf9-4e95-8a29-9b8d3b6dc98d button');\n",
              "          quickchartButtonEl.style.display =\n",
              "            google.colab.kernel.accessAllowed ? 'block' : 'none';\n",
              "        })();\n",
              "      </script>\n",
              "    </div>\n",
              "\n",
              "    </div>\n",
              "  </div>\n"
            ],
            "application/vnd.google.colaboratory.intrinsic+json": {
              "type": "dataframe",
              "summary": "{\n  \"name\": \"dataset\",\n  \"rows\": 5,\n  \"fields\": [\n    {\n      \"column\": \"message\",\n      \"properties\": {\n        \"dtype\": \"string\",\n        \"num_unique_values\": 5,\n        \"samples\": [\n          \"My computer crashed and I lost all my important files \\ud83d\\ude31\\ud83d\\udcbb\",\n          \"I just found out my ex is dating someone new. I feel so heartbroken \\ud83d\\udc94\\ud83d\\ude22\",\n          \"I got into a car accident and my car is totaled \\ud83d\\ude14\\ud83d\\ude97\"\n        ],\n        \"semantic_type\": \"\",\n        \"description\": \"\"\n      }\n    }\n  ]\n}"
            }
          },
          "metadata": {},
          "execution_count": 11
        }
      ]
    },
    {
      "cell_type": "code",
      "source": [
        "import re\n",
        "import nltk\n",
        "nltk.download('stopwords')\n",
        "from nltk.corpus import stopwords\n",
        "from nltk.stem.porter import PorterStemmer\n",
        "corpus = []\n",
        "for i in range(0,len(dataset)):\n",
        "  message = re.sub('[^a-zA-Z]', ' ', dataset['message'][i])\n",
        "  message = message.lower()\n",
        "  message = message.split()\n",
        "  ps = PorterStemmer()\n",
        "  all_stopwords = stopwords.words('english')\n",
        "  all_stopwords.remove('not')\n",
        "  message = [ps.stem(word) for word in message if not word in set(all_stopwords)]\n",
        "  message = ' '.join(message)\n",
        "  corpus.append(message)"
      ],
      "metadata": {
        "colab": {
          "base_uri": "https://localhost:8080/"
        },
        "id": "4q0enMOfBO8y",
        "outputId": "72d2f115-2d67-402c-ddd1-1e98e8af1db7"
      },
      "execution_count": 12,
      "outputs": [
        {
          "output_type": "stream",
          "name": "stderr",
          "text": [
            "[nltk_data] Downloading package stopwords to /root/nltk_data...\n",
            "[nltk_data]   Package stopwords is already up-to-date!\n"
          ]
        }
      ]
    },
    {
      "cell_type": "code",
      "source": [
        "print(corpus)"
      ],
      "metadata": {
        "colab": {
          "base_uri": "https://localhost:8080/"
        },
        "id": "JBtw7ZMuBi0r",
        "outputId": "47cb513f-914b-4eb9-bc71-a839b371d2f7"
      },
      "execution_count": 13,
      "outputs": [
        {
          "output_type": "stream",
          "name": "stdout",
          "text": [
            "['realli enjoy movi', 'food terribl', 'not sure feel', 'servic excel', 'bad experi', 'great product', 'recommend', 'price bit high', 'weather perfect today', 'traffic horribl', 'feel neutral', 'concert amaz', 'custom servic terribl', 'book masterpiec', 'regret buy product', 'view breathtak', 'know think', 'internet speed slow', 'museum fascin', 'nois level high', 'opinion', 'hotel room spaciou clean', 'servic restaur aw', 'softwar user friendli', 'qualiti product poor', 'realli care', 'beach crowd', 'excel compani work', 'movi wast time', 'undecid', 'game complet disast', 'sceneri beauti', 'speaker engag', 'great time', 'product overpr', 'indiffer', 'perform outstand', 'car broke highway', 'strong feel', 'food delici', 'servic hotel terribl', 'phone amaz', 'not impress', 'mix feel', 'weather terribl today', 'book disappoint', 'care one way', 'hike exhaust', 'fantast product', 'know make', 'custom servic great', 'nois level toler', 'hotel room dirti cramp', 'pleas', 'traffic light', 'movi bore', 'opinion', 'beach beauti', 'food averag', 'regret wast money product', 'view averag', 'museum bore', 'realli care topic', 'hotel noisi night', 'softwar difficult use', 'game excit', 'speaker bore', 'enjoy', 'car great condit', 'not sure think', 'servic restaur excel', 'sceneri averag', 'compani terribl', 'movi great', 'not satisfi product', 'strong feel', 'weather wonder today', 'book amaz', 'prefer', 'hike refresh', 'terribl product', 'perform mediocr', 'not sure like', 'food not good', 'servic hotel great', 'phone not user friendli', 'impress', 'traffic moder', 'movi entertain', 'interest', 'beach peac', 'food outstand', 'regret not buy product', 'view stun', 'museum inform', 'strong feel either way', 'hotel comfort', 'softwar complic', 'game challeng', 'speaker inspir', 'enjoy much', 'car not reliabl', 'ambival', 'servic restaur mediocr', 'sceneri breathtak', 'compani excel', 'movi okay', 'not happi product', 'realli opinion', 'weather nice today', 'book okay', 'care', 'hike invigor', 'terribl compani', 'perform averag', 'not sure want pursu', 'food not bad', 'servic hotel mediocr', 'phone okay', 'traffic heavi', 'movi disappoint', 'not interest', 'beach dirti', 'food terribl overpr', 'regret buy', 'view unremark', 'museum dull', 'strong opinion', 'hotel noisi day', 'softwar frustrat use', 'game bore', 'speaker uninterest', 'not enjoy', 'car expens', 'unsur', 'servic restaur poor', 'sceneri unimpress', 'compani aw', 'movi terribl', 'unhappi product', 'prefer', 'weather aw today', 'book bore', 'not interest topic', 'hike difficult', 'useless product', 'perform excel', 'fenc', 'food not good', 'servic hotel poor', 'phone disappoint', 'traffic unbear', 'movi not worth watch', 'care one way', 'beach crowd dirti', 'food averag', 'regret purchas product', 'view unapp', 'museum uninterest', 'strong feel', 'hotel overpr', 'softwar nightmar use', 'game frustrat', 'speaker dull', 'recommend', 'car old unreli', 'undecid', 'servic restaur terribl', 'sceneri unremark', 'compani horribl', 'movi not enjoy', 'dissatisfi product', 'opinion', 'weather terribl today', 'book not interest', 'realli enjoy movi', 'food terribl', 'not sure feel', 'servic excel', 'bad experi', 'great product', 'recommend', 'price bit high', 'care subject', 'hike unev', 'averag product', 'perform good', 'mix feel', 'food satisfactori', 'servic hotel averag', 'phone averag', 'traffic typic time day', 'movi averag', 'indiffer', 'beach averag', 'museum averag', 'opinion', 'hotel averag', 'softwar averag', 'game averag', 'speaker averag', 'strong emot', 'car averag', 'prefer', 'servic restaur averag', 'sceneri averag', 'compani averag', 'book averag', 'strong feel one way', 'weather averag today', 'not particularli interest', 'hike averag', 'typic product', 'perform averag', 'neutral', 'food averag', 'servic hotel standard', 'phone standard', 'traffic normal', 'movi mediocr', 'strong opinion', 'beach unremark', 'museum standard', 'strong feel', 'hotel standard', 'softwar standard', 'game standard', 'speaker standard', 'indiffer', 'car standard', 'prefer', 'servic restaur standard', 'sceneri standard', 'compani standard', 'book standard', 'feel strongli', 'weather normal today', 'particular interest', 'hike standard', 'regular product', 'perform satisfactori', 'undecid', 'food regular', 'servic hotel okay', 'phone regular', 'traffic averag', 'movi regular', 'opinion', 'beach typic', 'museum okay', 'strong opinion', 'hotel averag', 'softwar regular', 'game averag', 'speaker averag', 'neutral', 'car averag', 'prefer', 'servic restaur okay', 'sceneri regular', 'compani regular', 'book okay', 'neutral', 'weather regular today', 'particular interest', 'hike regular', 'ordinari product', 'perform typic', 'neutral', 'food ordinari', 'servic hotel averag', 'phone ordinari', 'traffic standard', 'movi ordinari', 'strong opinion', 'beach standard', 'museum averag', 'opinion', 'hotel ordinari', 'softwar ordinari', 'pizza delici', 'amaz time parti', 'hotel great', 'phone fantast', 'view top breathtak', 'custom servic excel', 'love product', 'movi fantast', 'great experi', 'food delici', 'staff restaur wonder', 'realli happi purchas', 'hotel room comfort', 'enjoy everi moment vacat', 'servic spa amaz', 'impress qualiti product', 'atmospher parti fun', 'restaur amaz food', 'staff hotel friendli help', 'concert incred', 'love place', 'drink great', 'servic restaur excel', 'wait come back', 'hotel staff went beyond', 'glad tri product', 'beach beauti', 'staff store help', 'best phone ever own', 'show amaz', 'happi book vacat', 'coffe excel', 'staff spa profession', 'realli impress compani', 'servic hotel outstand', 'food restaur top notch', 'love design product', 'hotel amen great', 'staff museum knowledg', 'wonder time event', 'grate help receiv custom servic', 'product exceed expect', 'room clean comfort', 'realli enjoy book', 'servic salon top notch', 'glad made purchas', 'food wed delici', 'hey', 'feel', 'thank help', 'not sure', 'reschedul meet', 'way', 'weather crazi', 'not feel great', 'look forward vacat', 'know want eat', 'middl someth call back later', 'tri decid two option', 'nice meet', 'hang home', 'not realli sure mean', 'sorri make parti', 'tire', 'remind detail', 'not feel product today', 'work home today', 'know time', 'not sure right', 'feel bit overwhelm', 'not sure wear today', 'think go run', 'not sure readi', 'hang friend tonight', 'realli hungri', 'feel bit better', 'not sure make meet', 'not feel well today', 'tri stay posit', 'not sure say', 'feel pretti good today', 'feel bit lost right', 'take easi today', 'not sure readi', 'feel bit anxiou', 'not sure next', 'not realli sure respond', 'enjoy nice weather', 'feel bit weather', 'not sure go gym', 'feel bit overwhelm work', 'relax home', 'not sure want', 'feel bit bore', 'not sure', 'tri stay focus', 'feel bit stress', 'not sure readi make decis', 'feel bit distract today', 'not sure right', 'hang famili today', 'feel bit uncertain thing right', 'not sure make dinner', 'take one day time', 'feel bit restless today', 'not sure mood', 'tri stay posit', 'feel bit comfort zone', 'not sure make event', 'enjoy alon time', 'feel bit stuck right', 'not sure free time', 'tri figur thing', 'feel bit overwhelm everyth go', 'not sure make right decis', 'take thing one step time', 'feel bit frustrat today', 'not sure say anyth', 'tri keep thing perspect', 'feel bit confus right', 'not sure next', 'tri stay focus goal', 'feel bit lost without phone', 'not sure go tonight', 'tri find way', 'feel bit bore routin', 'not sure spare time', 'tri keep head water', 'feel bit restless today', 'not sure challeng', 'tri stay posit keep move forward', 'feel bit uncertain futur', 'not sure life', 'tri make everi day', 'feel bit overwhelm everyth plate', 'not sure readi take risk', 'tri stay focus work', 'feel bit stress today', 'not sure weekend', 'tri find balanc life', 'feel bit lost without plan', 'not sure reach', 'feel happi today', 'love beauti weather', 'grate friend famili', 'feel great workout morn', 'enjoy delici meal', 'feel proud accomplish goal', 'love spend time signific', 'feel bless amaz peopl life', 'enjoy relax day home', 'feel inspir peopl around', 'love new book read', 'feel motiv tackl list today', 'enjoy beauti sceneri', 'feel excit futur', 'love new hobbi pick', 'feel grate opportun life', 'enjoy fun night friend', 'feel happi aliv healthi', 'love new music discov', 'feel fulfil work accomplish', 'enjoy much need vacat', 'feel content life right', 'love cozi even good movi', 'feel lucki support peopl life', 'enjoy beauti view top mountain', 'excit concert tonight', 'got promot work', 'love spend time famili', 'best vacat ever', 'happi back home love one', 'finish project work month', 'grate good thing life', 'got surpris visit old friend', 'love tri new food flavor', 'amaz date last night', 'proud accomplish year', 'love spend time natur', 'complet marathon', 'grate peopl life support', 'love see favorit band live concert', 'receiv compliment boss', 'happi surround posit peopl', 'love learn new thing expand knowledg', 'got new puppi cutest thing ever', 'grate littl thing life', 'first place competit', 'lucki support love partner', 'love explor new place cultur', 'achiev person goal set', 'grate beauti weather today', 'love see friend catch', 'receiv thought gift someon special', 'happi job love passion', 'love spend time pet', 'complet challeng workout', 'grate opportun life', 'love tri new thing step comfort zone', 'got great grade test studi hard', 'happi support love friend', 'love go adventur explor new thing', 'complet difficult task feel amaz', 'grate health well', 'love spend time signific creat new memori', 'receiv promot work', 'happi surround posit good vibe', 'love tri new thing push limit', 'achiev major mileston person life', 'feel today', 'found get job appli', 'hate feel stress overwhelm', 'terribl day work today', 'disappoint make mistak', 'went breakup hurt much', 'believ fail exam', 'hate feel alon isol', 'tire deal drama neg', 'lost wallet import document', 'sick tire feel sick tire', 'hate way look outfit', 'got fight best friend', 'stress everyth go life', 'hate feel powerless helpless', 'got bad news know deal', 'disappoint someon trust', 'believ much work littl time', 'hate feel anxiou edg time', 'got reject someon realli like', 'tire feel like noth go right life', 'hate way peopl treat late', 'lost pet heartbroken', 'frustrat not abl better', 'hate feel overwhelm control', 'lost job know', 'frustrat day go', 'got fight partner not go well', 'hate thing go accord plan', 'disappoint thing turn', 'got bad news feel', 'stress everyth go', 'hate deal difficult peopl', 'got car accid car total', 'tire drama life', 'fail test studi hard', 'upset way thing turn', 'hate feel like not good enough', 'got reject dream job', 'overwhelm everyth plate', 'hate deal rude disrespect peopl', 'fall close friend', 'disappoint make mistak', 'hate feel like stuck rut', 'got argument famili member not go well', 'frustrat lack progress', 'hate feel like not control life', 'got bad news health', 'stress financi situat', 'hate thing go plan start', 'got rais salari', 'excit go disneyland tomorrow', 'best sushi lunch today restaur http www sushifus com', 'finish read amaz book highli recommend', 'happi live dream apart view ocean', 'complet k run minut', 'grate new car get mile per gallon', 'love new dress got sale', 'book trip itali excit', 'grate health fit journey lost pound', 'finish paint realli proud', 'love new job peopl work', 'got text crush ask date', 'grate support commun posit energi bring', 'best cup coffe new cafe town http www cafecultur com', 'need buy orang recip today', 'send link articl mention earlier', 'dentist appoint tomorrow pm', 'need water plant leav work', 'go groceri store work buy milk bread', 'work project deadlin next week', 'take break work stretch leg', 'need clean apart parent come visit weekend', 'watch movi eat popcorn right', 'need call insur compani updat polici', 'studi final exam next week', 'plan road trip summer friend', 'brows internet idea decor apart', 'laundri fold cloth right', 'need buy new shoe work old one worn', 'got ticket park wrong spot', 'phone bill month usual know', 'tri new restaur got food poison stuck bed', 'believ rent went suppos afford', 'work saturday week plan go concert', 'internet day get work done', 'lost credit card someon charg', 'miss flight buy new ticket', 'got bad haircut wear hat week', 'got park ticket doctor offic even though park design spot', 'cancel vacat plan get time work', 'comput crash lost import file', 'got car accid car total', 'cold stop cough realli hard sleep', 'found ex date someon new feel heartbroken']\n"
          ]
        }
      ]
    },
    {
      "cell_type": "code",
      "source": [
        "%%time\n",
        "# Run predictions\n",
        "predictions = sentiment_analysis(corpus, truncation=True)\n",
        "\n",
        "# Extract predicted labels\n",
        "predicted_labels = [pred[\"label\"].capitalize() for pred in predictions]\n",
        "emojis = [label_to_emoji.get(label, \"❓\") for label in predicted_labels]\n",
        "\n",
        "# Add to DataFrame\n",
        "dataset[\"predicted_emotion\"] = predicted_labels\n",
        "dataset[\"emoji\"] = emojis"
      ],
      "metadata": {
        "colab": {
          "base_uri": "https://localhost:8080/"
        },
        "id": "3cLb0mknCtWn",
        "outputId": "2d08a69f-c395-457b-ca36-7e6122462548"
      },
      "execution_count": 14,
      "outputs": [
        {
          "output_type": "stream",
          "name": "stderr",
          "text": [
            "Asking to truncate to max_length but no maximum length is provided and the model has no predefined maximum length. Default to no truncation.\n"
          ]
        },
        {
          "output_type": "stream",
          "name": "stdout",
          "text": [
            "CPU times: user 3.25 s, sys: 13.3 ms, total: 3.27 s\n",
            "Wall time: 3.24 s\n"
          ]
        }
      ]
    },
    {
      "cell_type": "code",
      "source": [
        "predicted_labels[583]"
      ],
      "metadata": {
        "colab": {
          "base_uri": "https://localhost:8080/",
          "height": 35
        },
        "collapsed": true,
        "id": "9ZWIGLOfD0r4",
        "outputId": "e24be662-0d99-4904-b66e-f7d7fdba7916"
      },
      "execution_count": 17,
      "outputs": [
        {
          "output_type": "execute_result",
          "data": {
            "text/plain": [
              "'Sadness'"
            ],
            "application/vnd.google.colaboratory.intrinsic+json": {
              "type": "string"
            }
          },
          "metadata": {},
          "execution_count": 17
        }
      ]
    },
    {
      "cell_type": "code",
      "source": [
        "# from sklearn.metrics import classification_report, accuracy_score\n",
        "# # If you have true labels for evaluation\n",
        "# if \"true_label\" in dataset.columns:\n",
        "#     true_labels = dataset[\"true_label\"].tolist()\n",
        "\n",
        "#     # Show classification report\n",
        "#     print(\"Classification Report:\")\n",
        "#     print(classification_report(true_labels, predicted_labels))\n",
        "\n",
        "#     # Show accuracy\n",
        "#     acc = accuracy_score(true_labels, predicted_labels)\n",
        "#     print(f\"Accuracy: {acc:.2%}\")\n",
        "# else:\n",
        "#     print(\"No true labels found. Only predictions will be shown.\")"
      ],
      "metadata": {
        "id": "MVx3sLxWD61w"
      },
      "execution_count": null,
      "outputs": []
    },
    {
      "cell_type": "code",
      "source": [
        "# Save to new CSV\n",
        "dataset.to_csv(\"emo_data_predictions_with_emoji.csv\", index=False, encoding=\"utf-8-sig\")\n",
        "print(\"Saved as emo_data_predictions_with_emoji.csv\")"
      ],
      "metadata": {
        "colab": {
          "base_uri": "https://localhost:8080/"
        },
        "id": "KTrnsggeFo9z",
        "outputId": "dc64a211-24b5-42c7-8666-9b3d9a1ed628"
      },
      "execution_count": 18,
      "outputs": [
        {
          "output_type": "stream",
          "name": "stdout",
          "text": [
            "Saved as emo_data_predictions_with_emoji.csv\n"
          ]
        }
      ]
    },
    {
      "cell_type": "code",
      "source": [],
      "metadata": {
        "id": "zC_HSMUaHjOk"
      },
      "execution_count": null,
      "outputs": []
    }
  ]
}